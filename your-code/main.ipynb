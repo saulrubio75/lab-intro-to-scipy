{
  "cells": [
    {
      "cell_type": "markdown",
      "metadata": {
        "id": "UFBRA0z5k1kQ"
      },
      "source": [
        "# Before your start:\n",
        "- Read the README.md file\n",
        "- Comment as much as you can and use the resources (README.md file)\n",
        "- Happy learning!"
      ]
    },
    {
      "cell_type": "code",
      "execution_count": 19,
      "metadata": {
        "id": "R9FqsSJwk1kR"
      },
      "outputs": [],
      "source": [
        "#import numpy and pandas\n",
        "import pandas as pd \n",
        "import numpy as np \n"
      ]
    },
    {
      "cell_type": "code",
      "source": [
        "\n"
      ],
      "metadata": {
        "id": "uhvZW3K7mCDo"
      },
      "execution_count": null,
      "outputs": []
    },
    {
      "cell_type": "markdown",
      "metadata": {
        "id": "mzGHzwAQk1kS"
      },
      "source": [
        "# Challenge 1 - The `stats` Submodule\n",
        "\n",
        "This submodule contains statistical functions for conducting hypothesis tests, producing various distributions and other useful tools. Let's examine this submodule using the KickStarter dataset. We will load the dataset below."
      ]
    },
    {
      "cell_type": "code",
      "execution_count": 20,
      "metadata": {
        "id": "3pSlXjf3k1kS"
      },
      "outputs": [],
      "source": [
        "# Run this code:\n",
        "\n",
        "kickstarter = pd.read_csv('/content/ks-projects-201801.csv')"
      ]
    },
    {
      "cell_type": "code",
      "source": [
        "from google.colab import drive\n",
        "drive.mount('/content/drive')"
      ],
      "metadata": {
        "id": "654iCLBAmoUv"
      },
      "execution_count": null,
      "outputs": []
    },
    {
      "cell_type": "markdown",
      "metadata": {
        "id": "_F3fRO8uk1kT"
      },
      "source": [
        "Now print the `head` function to examine the dataset."
      ]
    },
    {
      "cell_type": "code",
      "execution_count": 21,
      "metadata": {
        "id": "gYIDmyjOk1kT",
        "outputId": "5fd48ff9-a452-4b49-9b97-461a16585908",
        "colab": {
          "base_uri": "https://localhost:8080/",
          "height": 531
        }
      },
      "outputs": [
        {
          "output_type": "execute_result",
          "data": {
            "text/plain": [
              "           ID                                               name  \\\n",
              "0  1000002330                    The Songs of Adelaide & Abullah   \n",
              "1  1000003930      Greeting From Earth: ZGAC Arts Capsule For ET   \n",
              "2  1000004038                                     Where is Hank?   \n",
              "3  1000007540  ToshiCapital Rekordz Needs Help to Complete Album   \n",
              "4  1000011046  Community Film Project: The Art of Neighborhoo...   \n",
              "\n",
              "         category main_category currency    deadline     goal  \\\n",
              "0          Poetry    Publishing      GBP  2015-10-09   1000.0   \n",
              "1  Narrative Film  Film & Video      USD  2017-11-01  30000.0   \n",
              "2  Narrative Film  Film & Video      USD  2013-02-26  45000.0   \n",
              "3           Music         Music      USD  2012-04-16   5000.0   \n",
              "4    Film & Video  Film & Video      USD  2015-08-29  19500.0   \n",
              "\n",
              "              launched  pledged     state  backers country  usd pledged  \\\n",
              "0  2015-08-11 12:12:28      0.0    failed        0      GB          0.0   \n",
              "1  2017-09-02 04:43:57   2421.0    failed       15      US        100.0   \n",
              "2  2013-01-12 00:20:50    220.0    failed        3      US        220.0   \n",
              "3  2012-03-17 03:24:11      1.0    failed        1      US          1.0   \n",
              "4  2015-07-04 08:35:03   1283.0  canceled       14      US       1283.0   \n",
              "\n",
              "   usd_pledged_real  usd_goal_real  \n",
              "0               0.0        1533.95  \n",
              "1            2421.0       30000.00  \n",
              "2             220.0       45000.00  \n",
              "3               1.0        5000.00  \n",
              "4            1283.0       19500.00  "
            ],
            "text/html": [
              "\n",
              "  <div id=\"df-107b2a17-3b1c-43dd-a4f0-e19208ed625c\">\n",
              "    <div class=\"colab-df-container\">\n",
              "      <div>\n",
              "<style scoped>\n",
              "    .dataframe tbody tr th:only-of-type {\n",
              "        vertical-align: middle;\n",
              "    }\n",
              "\n",
              "    .dataframe tbody tr th {\n",
              "        vertical-align: top;\n",
              "    }\n",
              "\n",
              "    .dataframe thead th {\n",
              "        text-align: right;\n",
              "    }\n",
              "</style>\n",
              "<table border=\"1\" class=\"dataframe\">\n",
              "  <thead>\n",
              "    <tr style=\"text-align: right;\">\n",
              "      <th></th>\n",
              "      <th>ID</th>\n",
              "      <th>name</th>\n",
              "      <th>category</th>\n",
              "      <th>main_category</th>\n",
              "      <th>currency</th>\n",
              "      <th>deadline</th>\n",
              "      <th>goal</th>\n",
              "      <th>launched</th>\n",
              "      <th>pledged</th>\n",
              "      <th>state</th>\n",
              "      <th>backers</th>\n",
              "      <th>country</th>\n",
              "      <th>usd pledged</th>\n",
              "      <th>usd_pledged_real</th>\n",
              "      <th>usd_goal_real</th>\n",
              "    </tr>\n",
              "  </thead>\n",
              "  <tbody>\n",
              "    <tr>\n",
              "      <th>0</th>\n",
              "      <td>1000002330</td>\n",
              "      <td>The Songs of Adelaide &amp; Abullah</td>\n",
              "      <td>Poetry</td>\n",
              "      <td>Publishing</td>\n",
              "      <td>GBP</td>\n",
              "      <td>2015-10-09</td>\n",
              "      <td>1000.0</td>\n",
              "      <td>2015-08-11 12:12:28</td>\n",
              "      <td>0.0</td>\n",
              "      <td>failed</td>\n",
              "      <td>0</td>\n",
              "      <td>GB</td>\n",
              "      <td>0.0</td>\n",
              "      <td>0.0</td>\n",
              "      <td>1533.95</td>\n",
              "    </tr>\n",
              "    <tr>\n",
              "      <th>1</th>\n",
              "      <td>1000003930</td>\n",
              "      <td>Greeting From Earth: ZGAC Arts Capsule For ET</td>\n",
              "      <td>Narrative Film</td>\n",
              "      <td>Film &amp; Video</td>\n",
              "      <td>USD</td>\n",
              "      <td>2017-11-01</td>\n",
              "      <td>30000.0</td>\n",
              "      <td>2017-09-02 04:43:57</td>\n",
              "      <td>2421.0</td>\n",
              "      <td>failed</td>\n",
              "      <td>15</td>\n",
              "      <td>US</td>\n",
              "      <td>100.0</td>\n",
              "      <td>2421.0</td>\n",
              "      <td>30000.00</td>\n",
              "    </tr>\n",
              "    <tr>\n",
              "      <th>2</th>\n",
              "      <td>1000004038</td>\n",
              "      <td>Where is Hank?</td>\n",
              "      <td>Narrative Film</td>\n",
              "      <td>Film &amp; Video</td>\n",
              "      <td>USD</td>\n",
              "      <td>2013-02-26</td>\n",
              "      <td>45000.0</td>\n",
              "      <td>2013-01-12 00:20:50</td>\n",
              "      <td>220.0</td>\n",
              "      <td>failed</td>\n",
              "      <td>3</td>\n",
              "      <td>US</td>\n",
              "      <td>220.0</td>\n",
              "      <td>220.0</td>\n",
              "      <td>45000.00</td>\n",
              "    </tr>\n",
              "    <tr>\n",
              "      <th>3</th>\n",
              "      <td>1000007540</td>\n",
              "      <td>ToshiCapital Rekordz Needs Help to Complete Album</td>\n",
              "      <td>Music</td>\n",
              "      <td>Music</td>\n",
              "      <td>USD</td>\n",
              "      <td>2012-04-16</td>\n",
              "      <td>5000.0</td>\n",
              "      <td>2012-03-17 03:24:11</td>\n",
              "      <td>1.0</td>\n",
              "      <td>failed</td>\n",
              "      <td>1</td>\n",
              "      <td>US</td>\n",
              "      <td>1.0</td>\n",
              "      <td>1.0</td>\n",
              "      <td>5000.00</td>\n",
              "    </tr>\n",
              "    <tr>\n",
              "      <th>4</th>\n",
              "      <td>1000011046</td>\n",
              "      <td>Community Film Project: The Art of Neighborhoo...</td>\n",
              "      <td>Film &amp; Video</td>\n",
              "      <td>Film &amp; Video</td>\n",
              "      <td>USD</td>\n",
              "      <td>2015-08-29</td>\n",
              "      <td>19500.0</td>\n",
              "      <td>2015-07-04 08:35:03</td>\n",
              "      <td>1283.0</td>\n",
              "      <td>canceled</td>\n",
              "      <td>14</td>\n",
              "      <td>US</td>\n",
              "      <td>1283.0</td>\n",
              "      <td>1283.0</td>\n",
              "      <td>19500.00</td>\n",
              "    </tr>\n",
              "  </tbody>\n",
              "</table>\n",
              "</div>\n",
              "      <button class=\"colab-df-convert\" onclick=\"convertToInteractive('df-107b2a17-3b1c-43dd-a4f0-e19208ed625c')\"\n",
              "              title=\"Convert this dataframe to an interactive table.\"\n",
              "              style=\"display:none;\">\n",
              "        \n",
              "  <svg xmlns=\"http://www.w3.org/2000/svg\" height=\"24px\"viewBox=\"0 0 24 24\"\n",
              "       width=\"24px\">\n",
              "    <path d=\"M0 0h24v24H0V0z\" fill=\"none\"/>\n",
              "    <path d=\"M18.56 5.44l.94 2.06.94-2.06 2.06-.94-2.06-.94-.94-2.06-.94 2.06-2.06.94zm-11 1L8.5 8.5l.94-2.06 2.06-.94-2.06-.94L8.5 2.5l-.94 2.06-2.06.94zm10 10l.94 2.06.94-2.06 2.06-.94-2.06-.94-.94-2.06-.94 2.06-2.06.94z\"/><path d=\"M17.41 7.96l-1.37-1.37c-.4-.4-.92-.59-1.43-.59-.52 0-1.04.2-1.43.59L10.3 9.45l-7.72 7.72c-.78.78-.78 2.05 0 2.83L4 21.41c.39.39.9.59 1.41.59.51 0 1.02-.2 1.41-.59l7.78-7.78 2.81-2.81c.8-.78.8-2.07 0-2.86zM5.41 20L4 18.59l7.72-7.72 1.47 1.35L5.41 20z\"/>\n",
              "  </svg>\n",
              "      </button>\n",
              "      \n",
              "  <style>\n",
              "    .colab-df-container {\n",
              "      display:flex;\n",
              "      flex-wrap:wrap;\n",
              "      gap: 12px;\n",
              "    }\n",
              "\n",
              "    .colab-df-convert {\n",
              "      background-color: #E8F0FE;\n",
              "      border: none;\n",
              "      border-radius: 50%;\n",
              "      cursor: pointer;\n",
              "      display: none;\n",
              "      fill: #1967D2;\n",
              "      height: 32px;\n",
              "      padding: 0 0 0 0;\n",
              "      width: 32px;\n",
              "    }\n",
              "\n",
              "    .colab-df-convert:hover {\n",
              "      background-color: #E2EBFA;\n",
              "      box-shadow: 0px 1px 2px rgba(60, 64, 67, 0.3), 0px 1px 3px 1px rgba(60, 64, 67, 0.15);\n",
              "      fill: #174EA6;\n",
              "    }\n",
              "\n",
              "    [theme=dark] .colab-df-convert {\n",
              "      background-color: #3B4455;\n",
              "      fill: #D2E3FC;\n",
              "    }\n",
              "\n",
              "    [theme=dark] .colab-df-convert:hover {\n",
              "      background-color: #434B5C;\n",
              "      box-shadow: 0px 1px 3px 1px rgba(0, 0, 0, 0.15);\n",
              "      filter: drop-shadow(0px 1px 2px rgba(0, 0, 0, 0.3));\n",
              "      fill: #FFFFFF;\n",
              "    }\n",
              "  </style>\n",
              "\n",
              "      <script>\n",
              "        const buttonEl =\n",
              "          document.querySelector('#df-107b2a17-3b1c-43dd-a4f0-e19208ed625c button.colab-df-convert');\n",
              "        buttonEl.style.display =\n",
              "          google.colab.kernel.accessAllowed ? 'block' : 'none';\n",
              "\n",
              "        async function convertToInteractive(key) {\n",
              "          const element = document.querySelector('#df-107b2a17-3b1c-43dd-a4f0-e19208ed625c');\n",
              "          const dataTable =\n",
              "            await google.colab.kernel.invokeFunction('convertToInteractive',\n",
              "                                                     [key], {});\n",
              "          if (!dataTable) return;\n",
              "\n",
              "          const docLinkHtml = 'Like what you see? Visit the ' +\n",
              "            '<a target=\"_blank\" href=https://colab.research.google.com/notebooks/data_table.ipynb>data table notebook</a>'\n",
              "            + ' to learn more about interactive tables.';\n",
              "          element.innerHTML = '';\n",
              "          dataTable['output_type'] = 'display_data';\n",
              "          await google.colab.output.renderOutput(dataTable, element);\n",
              "          const docLink = document.createElement('div');\n",
              "          docLink.innerHTML = docLinkHtml;\n",
              "          element.appendChild(docLink);\n",
              "        }\n",
              "      </script>\n",
              "    </div>\n",
              "  </div>\n",
              "  "
            ]
          },
          "metadata": {},
          "execution_count": 21
        }
      ],
      "source": [
        "# Your code here:\n",
        "\n",
        "kickstarter.head()"
      ]
    },
    {
      "cell_type": "markdown",
      "metadata": {
        "id": "YBWc6hNAk1kT"
      },
      "source": [
        "Import the `mode` function from `scipy.stats` and find the mode of the `country` and `currency` column."
      ]
    },
    {
      "cell_type": "code",
      "execution_count": 26,
      "metadata": {
        "id": "BJ9K5Fwck1kU",
        "outputId": "cc843c55-e415-4083-8a3a-4c20b40f2334",
        "colab": {
          "base_uri": "https://localhost:8080/"
        }
      },
      "outputs": [
        {
          "output_type": "stream",
          "name": "stdout",
          "text": [
            "ModeResult(mode=array(['US'], dtype=object), count=array([292627]))\n",
            "ModeResult(mode=array(['USD'], dtype=object), count=array([295365]))\n"
          ]
        }
      ],
      "source": [
        "# Your code here: \n",
        "import scipy \n",
        "import scipy.stats  as stats\n",
        "\n",
        "print(stats.mode(kickstarter['country']))  \n",
        "print(stats.mode(kickstarter['currency']))\n",
        "\n",
        "\n",
        "\n",
        "\n",
        "\n"
      ]
    },
    {
      "cell_type": "markdown",
      "metadata": {
        "id": "HB7xZNBCk1kU"
      },
      "source": [
        "The trimmed mean is a function that computes the mean of the data with observations removed. The most common way to compute a trimmed mean is by specifying a percentage and then removing elements from both ends. However, we can also specify a threshold on both ends. The goal of this function is to create a more robust method of computing the mean that is less influenced by outliers. SciPy contains a function called `tmean` for computing the trimmed mean. \n",
        "\n",
        "In the cell below, import the `tmean` function and then find the 75th percentile of the `goal` column. Compute the trimmed mean between 0 and the 75th percentile of the column. Read more about the `tmean` function [here](https://docs.scipy.org/doc/scipy/reference/generated/scipy.stats.tmean.html#scipy.stats.tmean)."
      ]
    },
    {
      "cell_type": "code",
      "execution_count": 32,
      "metadata": {
        "id": "g7_fXVLlk1kU",
        "outputId": "a1e82fe5-ee97-44ca-b26e-d0ddec9bc41c",
        "colab": {
          "base_uri": "https://localhost:8080/"
        }
      },
      "outputs": [
        {
          "output_type": "execute_result",
          "data": {
            "text/plain": [
              "28.02929089026915"
            ]
          },
          "metadata": {},
          "execution_count": 32
        }
      ],
      "source": [
        "# Your code here:\n",
        "stats.tmean(kickstarter['goal'], (0,75))\n",
        "\n",
        "\n"
      ]
    },
    {
      "cell_type": "markdown",
      "metadata": {
        "id": "jgU981Wok1kV"
      },
      "source": [
        "#### SciPy contains various statistical tests. One of the tests is Fisher's exact test. This test is used for contingency tables. \n",
        "\n",
        "The test originates from the \"Lady Tasting Tea\" experiment. In 1935, Fisher published the results of the experiment in his book. The experiment was based on a claim by Muriel Bristol that she can taste whether tea or milk was first poured into the cup. Fisher devised this test to disprove her claim. The null hypothesis is that the treatments do not affect outcomes, while the alternative hypothesis is that the treatment does affect outcome. To read more about Fisher's exact test, click [here](https://en.wikipedia.org/wiki/Fisher%27s_exact_test).\n",
        "\n",
        "Let's perform Fisher's exact test on our KickStarter data. We intend to test the hypothesis that the choice of currency has an impact on meeting the pledge goal. We'll start by creating two derived columns in our dataframe. The first will contain 1 if the amount of money in `usd_pledged_real` is greater than the amount of money in `usd_goal_real`. We can compute this by using the `np.where` function. If the amount in one column is greater than the other, enter a value of 1, otherwise enter a value of zero. Add this column to the dataframe and name it `goal_met`."
      ]
    },
    {
      "cell_type": "code",
      "execution_count": 38,
      "metadata": {
        "id": "D4m1HqWik1kV",
        "outputId": "31536494-90d3-4920-c45e-2c3bb39ae190",
        "colab": {
          "base_uri": "https://localhost:8080/"
        }
      },
      "outputs": [
        {
          "output_type": "execute_result",
          "data": {
            "text/plain": [
              "0         0\n",
              "1         0\n",
              "2         0\n",
              "3         0\n",
              "4         0\n",
              "         ..\n",
              "378656    0\n",
              "378657    0\n",
              "378658    0\n",
              "378659    0\n",
              "378660    0\n",
              "Name: goal_met, Length: 378661, dtype: int64"
            ]
          },
          "metadata": {},
          "execution_count": 38
        }
      ],
      "source": [
        "# Your code here: \n",
        "kickstarter['goal_met'] = np.where(kickstarter['usd_pledged_real'] > kickstarter['usd_goal_real'], 1 ,0) \n",
        "kickstarter['goal_met']"
      ]
    },
    {
      "cell_type": "markdown",
      "metadata": {
        "id": "jIJaVVf5k1kV"
      },
      "source": [
        "Next, create a column that checks whether the currency of the project is in US Dollars. Create a column called `usd` using the `np.where` function where if the currency is US Dollars, assign a value of 1 to the row and 0 otherwise."
      ]
    },
    {
      "cell_type": "code",
      "execution_count": 44,
      "metadata": {
        "id": "v-iY2ijXk1kV"
      },
      "outputs": [],
      "source": [
        "# Your code here:\n",
        "kickstarter['usd'] = np.where(kickstarter['currency'] == 'USD', 1, 0)\n",
        "\n",
        "\n"
      ]
    },
    {
      "cell_type": "markdown",
      "metadata": {
        "id": "gLJKlhS3k1kV"
      },
      "source": [
        "Now create a contingency table using the `pd.crosstab` function in the cell below to compare the `goal_met` and `usd` columns."
      ]
    },
    {
      "cell_type": "markdown",
      "metadata": {
        "id": "LRtYMhbUk1kW"
      },
      "source": [
        "Import the `fisher_exact` function from `scipy.stats` and conduct the hypothesis test on the contingency table that you have generated above. You can read more about the `fisher_exact` function [here](https://docs.scipy.org/doc/scipy/reference/generated/scipy.stats.fisher_exact.html#scipy.stats.fisher_exact). The output of the function should be the odds ratio and the p-value. The p-value will provide you with the outcome of the test."
      ]
    },
    {
      "cell_type": "code",
      "execution_count": 52,
      "metadata": {
        "id": "gTxcaMmIk1kW"
      },
      "outputs": [],
      "source": [
        "# Your code here:\n",
        "from scipy.stats import fisher_exact\n",
        "\n",
        "\n",
        "metxusd  = pd.crosstab(index= kickstarter['goal_met'], columns= kickstarter['usd'])\n",
        "oddsr, p = fisher_exact(metxusd , alternative='two-sided') \n",
        "\n"
      ]
    },
    {
      "cell_type": "markdown",
      "metadata": {
        "id": "cg2MJVY3k1kW"
      },
      "source": [
        "# Challenge 2 - The `linalg` submodule\n",
        "\n",
        "This submodule allows us to perform various linear algebra calculations. \n",
        "\n",
        "Using the solve function, find the solution of the equation system 5x + 2y = 3 and 3x + y = 2 in the cell below."
      ]
    },
    {
      "cell_type": "code",
      "execution_count": 53,
      "metadata": {
        "id": "Or5zuuQOk1kW",
        "outputId": "96c69b45-ff02-468c-f27c-19211b640b41",
        "colab": {
          "base_uri": "https://localhost:8080/"
        }
      },
      "outputs": [
        {
          "output_type": "execute_result",
          "data": {
            "text/plain": [
              "array([ 1., -1.])"
            ]
          },
          "metadata": {},
          "execution_count": 53
        }
      ],
      "source": [
        "# Your code here:\n",
        "from scipy import linalg \n",
        "\n",
        "var = [[5, 2], [3, 1]] \n",
        "res = [3, 2] \n",
        "linalg.solve(var, res)\n"
      ]
    },
    {
      "cell_type": "markdown",
      "metadata": {
        "id": "Bq3f3KPAk1kW"
      },
      "source": [
        "# Challenge 3 - The `interpolate` submodule\n",
        "\n",
        "This submodule allows us to interpolate between two points and create a continuous distribution based on the observed data.\n",
        "\n",
        "In the cell below, import the `interp1d` function and first take a sample of 10 rows from `kickstarter`. "
      ]
    },
    {
      "cell_type": "code",
      "execution_count": 62,
      "metadata": {
        "id": "7mSTdq5ek1kW",
        "outputId": "970486d4-d710-4420-ee10-361df88de62d",
        "colab": {
          "base_uri": "https://localhost:8080/",
          "height": 982
        }
      },
      "outputs": [
        {
          "output_type": "execute_result",
          "data": {
            "text/plain": [
              "           ID                                               name  \\\n",
              "0  1000002330                    The Songs of Adelaide & Abullah   \n",
              "1  1000003930      Greeting From Earth: ZGAC Arts Capsule For ET   \n",
              "2  1000004038                                     Where is Hank?   \n",
              "3  1000007540  ToshiCapital Rekordz Needs Help to Complete Album   \n",
              "4  1000011046  Community Film Project: The Art of Neighborhoo...   \n",
              "5  1000014025                               Monarch Espresso Bar   \n",
              "6  1000023410  Support Solar Roasted Coffee & Green Energy!  ...   \n",
              "7  1000030581  Chaser Strips. Our Strips make Shots their B*tch!   \n",
              "8  1000034518  SPIN - Premium Retractable In-Ear Headphones w...   \n",
              "9   100004195  STUDIO IN THE SKY - A Documentary Feature Film...   \n",
              "\n",
              "         category main_category currency    deadline      goal  \\\n",
              "0          Poetry    Publishing      GBP  2015-10-09    1000.0   \n",
              "1  Narrative Film  Film & Video      USD  2017-11-01   30000.0   \n",
              "2  Narrative Film  Film & Video      USD  2013-02-26   45000.0   \n",
              "3           Music         Music      USD  2012-04-16    5000.0   \n",
              "4    Film & Video  Film & Video      USD  2015-08-29   19500.0   \n",
              "5     Restaurants          Food      USD  2016-04-01   50000.0   \n",
              "6            Food          Food      USD  2014-12-21    1000.0   \n",
              "7          Drinks          Food      USD  2016-03-17   25000.0   \n",
              "8  Product Design        Design      USD  2014-05-29  125000.0   \n",
              "9     Documentary  Film & Video      USD  2014-08-10   65000.0   \n",
              "\n",
              "              launched   pledged       state  backers country  usd pledged  \\\n",
              "0  2015-08-11 12:12:28      0.00      failed        0      GB         0.00   \n",
              "1  2017-09-02 04:43:57   2421.00      failed       15      US       100.00   \n",
              "2  2013-01-12 00:20:50    220.00      failed        3      US       220.00   \n",
              "3  2012-03-17 03:24:11      1.00      failed        1      US         1.00   \n",
              "4  2015-07-04 08:35:03   1283.00    canceled       14      US      1283.00   \n",
              "5  2016-02-26 13:38:27  52375.00  successful      224      US     52375.00   \n",
              "6  2014-12-01 18:30:44   1205.00  successful       16      US      1205.00   \n",
              "7  2016-02-01 20:05:12    453.00      failed       40      US       453.00   \n",
              "8  2014-04-24 18:14:43   8233.00    canceled       58      US      8233.00   \n",
              "9  2014-07-11 21:55:48   6240.57    canceled       43      US      6240.57   \n",
              "\n",
              "   usd_pledged_real  usd_goal_real  goal_met  usd  \n",
              "0              0.00        1533.95         0    0  \n",
              "1           2421.00       30000.00         0    1  \n",
              "2            220.00       45000.00         0    1  \n",
              "3              1.00        5000.00         0    1  \n",
              "4           1283.00       19500.00         0    1  \n",
              "5          52375.00       50000.00         1    1  \n",
              "6           1205.00        1000.00         1    1  \n",
              "7            453.00       25000.00         0    1  \n",
              "8           8233.00      125000.00         0    1  \n",
              "9           6240.57       65000.00         0    1  "
            ],
            "text/html": [
              "\n",
              "  <div id=\"df-a11319b7-450c-485d-b6f5-5c9315656426\">\n",
              "    <div class=\"colab-df-container\">\n",
              "      <div>\n",
              "<style scoped>\n",
              "    .dataframe tbody tr th:only-of-type {\n",
              "        vertical-align: middle;\n",
              "    }\n",
              "\n",
              "    .dataframe tbody tr th {\n",
              "        vertical-align: top;\n",
              "    }\n",
              "\n",
              "    .dataframe thead th {\n",
              "        text-align: right;\n",
              "    }\n",
              "</style>\n",
              "<table border=\"1\" class=\"dataframe\">\n",
              "  <thead>\n",
              "    <tr style=\"text-align: right;\">\n",
              "      <th></th>\n",
              "      <th>ID</th>\n",
              "      <th>name</th>\n",
              "      <th>category</th>\n",
              "      <th>main_category</th>\n",
              "      <th>currency</th>\n",
              "      <th>deadline</th>\n",
              "      <th>goal</th>\n",
              "      <th>launched</th>\n",
              "      <th>pledged</th>\n",
              "      <th>state</th>\n",
              "      <th>backers</th>\n",
              "      <th>country</th>\n",
              "      <th>usd pledged</th>\n",
              "      <th>usd_pledged_real</th>\n",
              "      <th>usd_goal_real</th>\n",
              "      <th>goal_met</th>\n",
              "      <th>usd</th>\n",
              "    </tr>\n",
              "  </thead>\n",
              "  <tbody>\n",
              "    <tr>\n",
              "      <th>0</th>\n",
              "      <td>1000002330</td>\n",
              "      <td>The Songs of Adelaide &amp; Abullah</td>\n",
              "      <td>Poetry</td>\n",
              "      <td>Publishing</td>\n",
              "      <td>GBP</td>\n",
              "      <td>2015-10-09</td>\n",
              "      <td>1000.0</td>\n",
              "      <td>2015-08-11 12:12:28</td>\n",
              "      <td>0.00</td>\n",
              "      <td>failed</td>\n",
              "      <td>0</td>\n",
              "      <td>GB</td>\n",
              "      <td>0.00</td>\n",
              "      <td>0.00</td>\n",
              "      <td>1533.95</td>\n",
              "      <td>0</td>\n",
              "      <td>0</td>\n",
              "    </tr>\n",
              "    <tr>\n",
              "      <th>1</th>\n",
              "      <td>1000003930</td>\n",
              "      <td>Greeting From Earth: ZGAC Arts Capsule For ET</td>\n",
              "      <td>Narrative Film</td>\n",
              "      <td>Film &amp; Video</td>\n",
              "      <td>USD</td>\n",
              "      <td>2017-11-01</td>\n",
              "      <td>30000.0</td>\n",
              "      <td>2017-09-02 04:43:57</td>\n",
              "      <td>2421.00</td>\n",
              "      <td>failed</td>\n",
              "      <td>15</td>\n",
              "      <td>US</td>\n",
              "      <td>100.00</td>\n",
              "      <td>2421.00</td>\n",
              "      <td>30000.00</td>\n",
              "      <td>0</td>\n",
              "      <td>1</td>\n",
              "    </tr>\n",
              "    <tr>\n",
              "      <th>2</th>\n",
              "      <td>1000004038</td>\n",
              "      <td>Where is Hank?</td>\n",
              "      <td>Narrative Film</td>\n",
              "      <td>Film &amp; Video</td>\n",
              "      <td>USD</td>\n",
              "      <td>2013-02-26</td>\n",
              "      <td>45000.0</td>\n",
              "      <td>2013-01-12 00:20:50</td>\n",
              "      <td>220.00</td>\n",
              "      <td>failed</td>\n",
              "      <td>3</td>\n",
              "      <td>US</td>\n",
              "      <td>220.00</td>\n",
              "      <td>220.00</td>\n",
              "      <td>45000.00</td>\n",
              "      <td>0</td>\n",
              "      <td>1</td>\n",
              "    </tr>\n",
              "    <tr>\n",
              "      <th>3</th>\n",
              "      <td>1000007540</td>\n",
              "      <td>ToshiCapital Rekordz Needs Help to Complete Album</td>\n",
              "      <td>Music</td>\n",
              "      <td>Music</td>\n",
              "      <td>USD</td>\n",
              "      <td>2012-04-16</td>\n",
              "      <td>5000.0</td>\n",
              "      <td>2012-03-17 03:24:11</td>\n",
              "      <td>1.00</td>\n",
              "      <td>failed</td>\n",
              "      <td>1</td>\n",
              "      <td>US</td>\n",
              "      <td>1.00</td>\n",
              "      <td>1.00</td>\n",
              "      <td>5000.00</td>\n",
              "      <td>0</td>\n",
              "      <td>1</td>\n",
              "    </tr>\n",
              "    <tr>\n",
              "      <th>4</th>\n",
              "      <td>1000011046</td>\n",
              "      <td>Community Film Project: The Art of Neighborhoo...</td>\n",
              "      <td>Film &amp; Video</td>\n",
              "      <td>Film &amp; Video</td>\n",
              "      <td>USD</td>\n",
              "      <td>2015-08-29</td>\n",
              "      <td>19500.0</td>\n",
              "      <td>2015-07-04 08:35:03</td>\n",
              "      <td>1283.00</td>\n",
              "      <td>canceled</td>\n",
              "      <td>14</td>\n",
              "      <td>US</td>\n",
              "      <td>1283.00</td>\n",
              "      <td>1283.00</td>\n",
              "      <td>19500.00</td>\n",
              "      <td>0</td>\n",
              "      <td>1</td>\n",
              "    </tr>\n",
              "    <tr>\n",
              "      <th>5</th>\n",
              "      <td>1000014025</td>\n",
              "      <td>Monarch Espresso Bar</td>\n",
              "      <td>Restaurants</td>\n",
              "      <td>Food</td>\n",
              "      <td>USD</td>\n",
              "      <td>2016-04-01</td>\n",
              "      <td>50000.0</td>\n",
              "      <td>2016-02-26 13:38:27</td>\n",
              "      <td>52375.00</td>\n",
              "      <td>successful</td>\n",
              "      <td>224</td>\n",
              "      <td>US</td>\n",
              "      <td>52375.00</td>\n",
              "      <td>52375.00</td>\n",
              "      <td>50000.00</td>\n",
              "      <td>1</td>\n",
              "      <td>1</td>\n",
              "    </tr>\n",
              "    <tr>\n",
              "      <th>6</th>\n",
              "      <td>1000023410</td>\n",
              "      <td>Support Solar Roasted Coffee &amp; Green Energy!  ...</td>\n",
              "      <td>Food</td>\n",
              "      <td>Food</td>\n",
              "      <td>USD</td>\n",
              "      <td>2014-12-21</td>\n",
              "      <td>1000.0</td>\n",
              "      <td>2014-12-01 18:30:44</td>\n",
              "      <td>1205.00</td>\n",
              "      <td>successful</td>\n",
              "      <td>16</td>\n",
              "      <td>US</td>\n",
              "      <td>1205.00</td>\n",
              "      <td>1205.00</td>\n",
              "      <td>1000.00</td>\n",
              "      <td>1</td>\n",
              "      <td>1</td>\n",
              "    </tr>\n",
              "    <tr>\n",
              "      <th>7</th>\n",
              "      <td>1000030581</td>\n",
              "      <td>Chaser Strips. Our Strips make Shots their B*tch!</td>\n",
              "      <td>Drinks</td>\n",
              "      <td>Food</td>\n",
              "      <td>USD</td>\n",
              "      <td>2016-03-17</td>\n",
              "      <td>25000.0</td>\n",
              "      <td>2016-02-01 20:05:12</td>\n",
              "      <td>453.00</td>\n",
              "      <td>failed</td>\n",
              "      <td>40</td>\n",
              "      <td>US</td>\n",
              "      <td>453.00</td>\n",
              "      <td>453.00</td>\n",
              "      <td>25000.00</td>\n",
              "      <td>0</td>\n",
              "      <td>1</td>\n",
              "    </tr>\n",
              "    <tr>\n",
              "      <th>8</th>\n",
              "      <td>1000034518</td>\n",
              "      <td>SPIN - Premium Retractable In-Ear Headphones w...</td>\n",
              "      <td>Product Design</td>\n",
              "      <td>Design</td>\n",
              "      <td>USD</td>\n",
              "      <td>2014-05-29</td>\n",
              "      <td>125000.0</td>\n",
              "      <td>2014-04-24 18:14:43</td>\n",
              "      <td>8233.00</td>\n",
              "      <td>canceled</td>\n",
              "      <td>58</td>\n",
              "      <td>US</td>\n",
              "      <td>8233.00</td>\n",
              "      <td>8233.00</td>\n",
              "      <td>125000.00</td>\n",
              "      <td>0</td>\n",
              "      <td>1</td>\n",
              "    </tr>\n",
              "    <tr>\n",
              "      <th>9</th>\n",
              "      <td>100004195</td>\n",
              "      <td>STUDIO IN THE SKY - A Documentary Feature Film...</td>\n",
              "      <td>Documentary</td>\n",
              "      <td>Film &amp; Video</td>\n",
              "      <td>USD</td>\n",
              "      <td>2014-08-10</td>\n",
              "      <td>65000.0</td>\n",
              "      <td>2014-07-11 21:55:48</td>\n",
              "      <td>6240.57</td>\n",
              "      <td>canceled</td>\n",
              "      <td>43</td>\n",
              "      <td>US</td>\n",
              "      <td>6240.57</td>\n",
              "      <td>6240.57</td>\n",
              "      <td>65000.00</td>\n",
              "      <td>0</td>\n",
              "      <td>1</td>\n",
              "    </tr>\n",
              "  </tbody>\n",
              "</table>\n",
              "</div>\n",
              "      <button class=\"colab-df-convert\" onclick=\"convertToInteractive('df-a11319b7-450c-485d-b6f5-5c9315656426')\"\n",
              "              title=\"Convert this dataframe to an interactive table.\"\n",
              "              style=\"display:none;\">\n",
              "        \n",
              "  <svg xmlns=\"http://www.w3.org/2000/svg\" height=\"24px\"viewBox=\"0 0 24 24\"\n",
              "       width=\"24px\">\n",
              "    <path d=\"M0 0h24v24H0V0z\" fill=\"none\"/>\n",
              "    <path d=\"M18.56 5.44l.94 2.06.94-2.06 2.06-.94-2.06-.94-.94-2.06-.94 2.06-2.06.94zm-11 1L8.5 8.5l.94-2.06 2.06-.94-2.06-.94L8.5 2.5l-.94 2.06-2.06.94zm10 10l.94 2.06.94-2.06 2.06-.94-2.06-.94-.94-2.06-.94 2.06-2.06.94z\"/><path d=\"M17.41 7.96l-1.37-1.37c-.4-.4-.92-.59-1.43-.59-.52 0-1.04.2-1.43.59L10.3 9.45l-7.72 7.72c-.78.78-.78 2.05 0 2.83L4 21.41c.39.39.9.59 1.41.59.51 0 1.02-.2 1.41-.59l7.78-7.78 2.81-2.81c.8-.78.8-2.07 0-2.86zM5.41 20L4 18.59l7.72-7.72 1.47 1.35L5.41 20z\"/>\n",
              "  </svg>\n",
              "      </button>\n",
              "      \n",
              "  <style>\n",
              "    .colab-df-container {\n",
              "      display:flex;\n",
              "      flex-wrap:wrap;\n",
              "      gap: 12px;\n",
              "    }\n",
              "\n",
              "    .colab-df-convert {\n",
              "      background-color: #E8F0FE;\n",
              "      border: none;\n",
              "      border-radius: 50%;\n",
              "      cursor: pointer;\n",
              "      display: none;\n",
              "      fill: #1967D2;\n",
              "      height: 32px;\n",
              "      padding: 0 0 0 0;\n",
              "      width: 32px;\n",
              "    }\n",
              "\n",
              "    .colab-df-convert:hover {\n",
              "      background-color: #E2EBFA;\n",
              "      box-shadow: 0px 1px 2px rgba(60, 64, 67, 0.3), 0px 1px 3px 1px rgba(60, 64, 67, 0.15);\n",
              "      fill: #174EA6;\n",
              "    }\n",
              "\n",
              "    [theme=dark] .colab-df-convert {\n",
              "      background-color: #3B4455;\n",
              "      fill: #D2E3FC;\n",
              "    }\n",
              "\n",
              "    [theme=dark] .colab-df-convert:hover {\n",
              "      background-color: #434B5C;\n",
              "      box-shadow: 0px 1px 3px 1px rgba(0, 0, 0, 0.15);\n",
              "      filter: drop-shadow(0px 1px 2px rgba(0, 0, 0, 0.3));\n",
              "      fill: #FFFFFF;\n",
              "    }\n",
              "  </style>\n",
              "\n",
              "      <script>\n",
              "        const buttonEl =\n",
              "          document.querySelector('#df-a11319b7-450c-485d-b6f5-5c9315656426 button.colab-df-convert');\n",
              "        buttonEl.style.display =\n",
              "          google.colab.kernel.accessAllowed ? 'block' : 'none';\n",
              "\n",
              "        async function convertToInteractive(key) {\n",
              "          const element = document.querySelector('#df-a11319b7-450c-485d-b6f5-5c9315656426');\n",
              "          const dataTable =\n",
              "            await google.colab.kernel.invokeFunction('convertToInteractive',\n",
              "                                                     [key], {});\n",
              "          if (!dataTable) return;\n",
              "\n",
              "          const docLinkHtml = 'Like what you see? Visit the ' +\n",
              "            '<a target=\"_blank\" href=https://colab.research.google.com/notebooks/data_table.ipynb>data table notebook</a>'\n",
              "            + ' to learn more about interactive tables.';\n",
              "          element.innerHTML = '';\n",
              "          dataTable['output_type'] = 'display_data';\n",
              "          await google.colab.output.renderOutput(dataTable, element);\n",
              "          const docLink = document.createElement('div');\n",
              "          docLink.innerHTML = docLinkHtml;\n",
              "          element.appendChild(docLink);\n",
              "        }\n",
              "      </script>\n",
              "    </div>\n",
              "  </div>\n",
              "  "
            ]
          },
          "metadata": {},
          "execution_count": 62
        }
      ],
      "source": [
        "# Your code here:\n",
        "\n",
        "from scipy.interpolate import interp1d \n",
        "\n",
        "sample = kickstarter.head(10) \n",
        "sample "
      ]
    },
    {
      "cell_type": "markdown",
      "metadata": {
        "id": "XbKaKN3Gk1kW"
      },
      "source": [
        "Next, create a linear interpolation of the backers as a function of `usd_pledged_real`. Create a function `f` that generates a linear interpolation of backers as predicted by the amount of real pledged dollars."
      ]
    },
    {
      "cell_type": "code",
      "execution_count": 64,
      "metadata": {
        "id": "_kWHjP1Hk1kW",
        "outputId": "d4628ff4-bf65-4a62-be4e-9fc2619bfc2b",
        "colab": {
          "base_uri": "https://localhost:8080/"
        }
      },
      "outputs": [
        {
          "output_type": "execute_result",
          "data": {
            "text/plain": [
              "<scipy.interpolate.interpolate.interp1d at 0x7fd96ee09a10>"
            ]
          },
          "metadata": {},
          "execution_count": 64
        }
      ],
      "source": [
        "# Your code here: \n",
        "f = interp1d(sample['backers'], sample['usd_pledged_real']) \n",
        "f\n",
        "\n"
      ]
    },
    {
      "cell_type": "markdown",
      "metadata": {
        "id": "2SjSB8KCk1kX"
      },
      "source": [
        "Now create a new variable called `x_new`. This variable will contain all integers between the minimum number of backers in our sample and the maximum number of backers. The goal here is to take the dataset that contains few obeservations due to sampling and fill all observations with a value using the interpolation function. \n",
        "\n",
        "Hint: one option is the `np.arange` function."
      ]
    },
    {
      "cell_type": "code",
      "execution_count": 66,
      "metadata": {
        "id": "So62wqKmk1kX",
        "outputId": "fbf657be-a206-4112-9cf2-e510eb0e07ac",
        "colab": {
          "base_uri": "https://localhost:8080/"
        }
      },
      "outputs": [
        {
          "output_type": "execute_result",
          "data": {
            "text/plain": [
              "array([  0,   1,   2,   3,   4,   5,   6,   7,   8,   9,  10,  11,  12,\n",
              "        13,  14,  15,  16,  17,  18,  19,  20,  21,  22,  23,  24,  25,\n",
              "        26,  27,  28,  29,  30,  31,  32,  33,  34,  35,  36,  37,  38,\n",
              "        39,  40,  41,  42,  43,  44,  45,  46,  47,  48,  49,  50,  51,\n",
              "        52,  53,  54,  55,  56,  57,  58,  59,  60,  61,  62,  63,  64,\n",
              "        65,  66,  67,  68,  69,  70,  71,  72,  73,  74,  75,  76,  77,\n",
              "        78,  79,  80,  81,  82,  83,  84,  85,  86,  87,  88,  89,  90,\n",
              "        91,  92,  93,  94,  95,  96,  97,  98,  99, 100, 101, 102, 103,\n",
              "       104, 105, 106, 107, 108, 109, 110, 111, 112, 113, 114, 115, 116,\n",
              "       117, 118, 119, 120, 121, 122, 123, 124, 125, 126, 127, 128, 129,\n",
              "       130, 131, 132, 133, 134, 135, 136, 137, 138, 139, 140, 141, 142,\n",
              "       143, 144, 145, 146, 147, 148, 149, 150, 151, 152, 153, 154, 155,\n",
              "       156, 157, 158, 159, 160, 161, 162, 163, 164, 165, 166, 167, 168,\n",
              "       169, 170, 171, 172, 173, 174, 175, 176, 177, 178, 179, 180, 181,\n",
              "       182, 183, 184, 185, 186, 187, 188, 189, 190, 191, 192, 193, 194,\n",
              "       195, 196, 197, 198, 199, 200, 201, 202, 203, 204, 205, 206, 207,\n",
              "       208, 209, 210, 211, 212, 213, 214, 215, 216, 217, 218, 219, 220,\n",
              "       221, 222, 223, 224])"
            ]
          },
          "metadata": {},
          "execution_count": 66
        }
      ],
      "source": [
        "# Your code here:\n",
        "\n",
        "x_new = np.arange(sample['backers'].min(), (sample['backers'].max()+1),1)\n",
        "x_new"
      ]
    },
    {
      "cell_type": "markdown",
      "metadata": {
        "id": "2MbvbyYAk1kX"
      },
      "source": [
        "Plot function f for all values of `x_new`. Run the code below."
      ]
    },
    {
      "cell_type": "code",
      "execution_count": 67,
      "metadata": {
        "id": "VlC-X6Ydk1kX",
        "outputId": "b5ca993d-1354-41c9-c150-1a71d226484f",
        "colab": {
          "base_uri": "https://localhost:8080/",
          "height": 283
        }
      },
      "outputs": [
        {
          "output_type": "execute_result",
          "data": {
            "text/plain": [
              "[<matplotlib.lines.Line2D at 0x7fd96ef6aa50>]"
            ]
          },
          "metadata": {},
          "execution_count": 67
        },
        {
          "output_type": "display_data",
          "data": {
            "text/plain": [
              "<Figure size 432x288 with 1 Axes>"
            ],
            "image/png": "[encoded data removed]"
          },
          "metadata": {
            "needs_background": "light"
          }
        }
      ],
      "source": [
        "# Run this code:\n",
        "\n",
        "%matplotlib inline\n",
        "import matplotlib.pyplot as plt\n",
        "\n",
        "plt.plot(x_new, f(x_new))"
      ]
    },
    {
      "cell_type": "markdown",
      "metadata": {
        "id": "rebjxIO0k1kX"
      },
      "source": [
        "Next create a function that will generate a cubic interpolation function. Name the function `g`"
      ]
    },
    {
      "cell_type": "code",
      "execution_count": 68,
      "metadata": {
        "id": "hnarzzIOk1kX"
      },
      "outputs": [],
      "source": [
        "# Your code here:\n",
        "\n",
        "g = interp1d(sample['backers'], sample['usd_pledged_real'], kind='cubic', fill_value='extrapolate')\n"
      ]
    },
    {
      "cell_type": "code",
      "execution_count": 69,
      "metadata": {
        "id": "dwllf5T1k1kX",
        "outputId": "f10499d1-f81f-4cc4-b8c2-617ff9764593",
        "colab": {
          "base_uri": "https://localhost:8080/",
          "height": 283
        }
      },
      "outputs": [
        {
          "output_type": "execute_result",
          "data": {
            "text/plain": [
              "[<matplotlib.lines.Line2D at 0x7fd96e8df490>]"
            ]
          },
          "metadata": {},
          "execution_count": 69
        },
        {
          "output_type": "display_data",
          "data": {
            "text/plain": [
              "<Figure size 432x288 with 1 Axes>"
            ],
            "image/png": "[encoded data removed]"
          },
          "metadata": {
            "needs_background": "light"
          }
        }
      ],
      "source": [
        "# Run this code:\n",
        "\n",
        "plt.plot(x_new, g(x_new))"
      ]
    },
    {
      "cell_type": "markdown",
      "metadata": {
        "id": "5ous3e_Ak1kX"
      },
      "source": [
        "# Bonus Challenge - The Binomial Distribution\n",
        "\n",
        "The binomial distribution allows us to calculate the probability of k successes in n trials for a random variable with two possible outcomes (which we typically label success and failure).  \n",
        "\n",
        "The probability of success is typically denoted by p and the probability of failure is denoted by 1-p.\n",
        "\n",
        "The `scipy.stats` submodule contains a `binom` function for computing the probabilites of a random variable with the binomial distribution. You may read more about the binomial distribution [here](https://en.wikipedia.org/wiki/Binomial_distribution) and about the `binom` function [here](https://docs.scipy.org/doc/scipy/reference/generated/scipy.stats.binom.html#scipy.stats.binom).\n",
        "\n",
        "In the cell below, compute the probability that a die lands on 5 exactly 3 times in 8 tries.\n",
        "\n",
        "Hint: the probability of rolling a 5 is 1/6."
      ]
    },
    {
      "cell_type": "code",
      "execution_count": null,
      "metadata": {
        "id": "0zuUFWN9k1kX"
      },
      "outputs": [],
      "source": [
        "# Your code here:\n",
        "\n"
      ]
    },
    {
      "cell_type": "code",
      "execution_count": null,
      "metadata": {
        "id": "CMB7lEElk1kX"
      },
      "outputs": [],
      "source": []
    }
  ],
  "metadata": {
    "kernelspec": {
      "display_name": "Python 3",
      "language": "python",
      "name": "python3"
    },
    "language_info": {
      "codemirror_mode": {
        "name": "ipython",
        "version": 3
      },
      "file_extension": ".py",
      "mimetype": "text/x-python",
      "name": "python",
      "nbconvert_exporter": "python",
      "pygments_lexer": "ipython3",
      "version": "3.6.6"
    },
    "colab": {
      "provenance": []
    }
  },
  "nbformat": 4,
  "nbformat_minor": 0
}